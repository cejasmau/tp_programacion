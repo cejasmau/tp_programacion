{
 "cells": [
  {
   "cell_type": "markdown",
   "id": "7ea645e9",
   "metadata": {},
   "source": [
    "![](imagenes/unaj_logo.png)\n",
    "\n",
    "*Maestría en Ciencia de Datos*\n",
    "\n",
    "*Instituto de Ingeniería y Agronomía*\n",
    "\n",
    "# Trabajo Integrador: Programación"
   ]
  },
  {
   "cell_type": "markdown",
   "id": "696f1b2a",
   "metadata": {},
   "source": [
    "## Integrantes\n",
    "\n",
    "- Facundo Cuba\n",
    "- Leticia Nanini\n",
    "- Mauro Cejas Marcovecchio\n",
    "- Yesica Travasso\n",
    "\n",
    "## Descripción\n",
    "\n",
    "El objetivo del proyecto es desarrollar un sistema de gestión académica que permita analizar las notas de los estudiantes en diferentes asignaturas. Dicho sistema será capaz de calcular el promedio de notas, determinar la situación académica de cada estudiante (aprobado o reprobado) y mostrar la información general de las notas. "
   ]
  },
  {
   "cell_type": "markdown",
   "id": "d140c25a",
   "metadata": {},
   "source": [
    "## Modelado orientado a datos\n",
    "\n",
    "### Estructura\n",
    "\n",
    "En primer lugar, vamos a tomar la definición de dividir nuestro código en módulos, haciéndolo más fácil de mantener, escalar y nos permite separar las distintas etapas necesarias para el objetivo del trabajo.\n",
    "\n",
    "De esa forma, la organización del trabajo será la siguiente:"
   ]
  },
  {
   "cell_type": "code",
   "execution_count": 14,
   "id": "879027b4",
   "metadata": {},
   "outputs": [
    {
     "name": "stdout",
     "output_type": "stream",
     "text": [
      "proyecto/\n",
      "├── notebook.ipynb\n",
      "├── datos/\n",
      "│   ├── generador_datos.py\n",
      "│   └── procesamiento.py\n",
      "├── modelos/\n",
      "│   └── entidades.py\n",
      "└── analisis/\n",
      "    └── estadisticas.py\n"
     ]
    }
   ],
   "source": [
    "# Si todavía no fue instalado, se debe correr el código: pip install anytree\n",
    "\n",
    "from anytree import Node, RenderTree\n",
    "\n",
    "# Creamos los Nodos\n",
    "\n",
    "raiz = Node('proyecto/')\n",
    "nodo_b = Node('notebook.ipynb', parent=raiz)\n",
    "nodo_c = Node('datos/', parent=raiz)\n",
    "nodo_d = Node('modelos/', parent=raiz)\n",
    "nodo_e = Node('analisis/', parent=raiz)\n",
    "nodo_f = Node('generador_datos.py', parent=nodo_c)\n",
    "nodo_g = Node('procesamiento.py', parent=nodo_c)\n",
    "nodo_h = Node('entidades.py', parent=nodo_d)\n",
    "nodo_i = Node('estadisticas.py', parent=nodo_e)\n",
    "\n",
    "# Función para imprimir el árbol\n",
    "\n",
    "for pre, fill, node in RenderTree(raiz):\n",
    "    print(\"%s%s\" % (pre, node.name))"
   ]
  },
  {
   "cell_type": "markdown",
   "id": "cf4becf4",
   "metadata": {},
   "source": [
    "### Creación de datos\n",
    "\n",
    "Cada vez que necesitemos crear una nueva base de datos de estudiantes y sus respectivas notas de materias académicas de forma aleatoria, vamos a llamar a la función diseñada específicamente para esa tarea. \n",
    "\n",
    "Según la cantidad de estudiantes que definamos, se crearán aleatoriamente nombres, apellidos y notas del 1 al 10 de las siguientes materias:\n",
    "\n",
    "- Matemáticas\n",
    "- Física\n",
    "- Química\n",
    "- Biología\n",
    "- Literatura\n",
    "- Historia\n",
    "- Geografía\n",
    "- Economía\n",
    "- Inglés\n",
    "- Artes\n",
    "- Educación Física\n",
    "- Computación"
   ]
  },
  {
   "cell_type": "code",
   "execution_count": 32,
   "id": "1213edcd",
   "metadata": {},
   "outputs": [
    {
     "name": "stdout",
     "output_type": "stream",
     "text": [
      "Archivo generado con 325 estudiantes.\n"
     ]
    }
   ],
   "source": [
    "from datos.generador_datos import generar_csv_estudiantes\n",
    "\n",
    "# Solicitar entrada al usuario\n",
    "while True:\n",
    "    try:\n",
    "        n = int(input(\"Ingrese el número de estudiantes a generar: \"))\n",
    "        if n > 0:\n",
    "            generar_csv_estudiantes(n)\n",
    "            print(f\"Archivo generado con {n} estudiantes.\")\n",
    "            break\n",
    "        else:\n",
    "            print(\"¡Error! Ingrese un número mayor que cero.\")\n",
    "    except ValueError:\n",
    "        print(\"¡Error! Debe ingresar un número entero.\")"
   ]
  },
  {
   "cell_type": "markdown",
   "id": "457199b6",
   "metadata": {},
   "source": [
    "## Lectura y Procesamiento de datos\n",
    "\n",
    "De esta manera, podemos chequear que los datos se hayan generado correctamente y tener un primer acercamiento a su visualización mediante el paquete Pandas:"
   ]
  },
  {
   "cell_type": "code",
   "execution_count": 3,
   "id": "9ffc892e",
   "metadata": {},
   "outputs": [
    {
     "data": {
      "application/vnd.microsoft.datawrangler.viewer.v0+json": {
       "columns": [
        {
         "name": "index",
         "rawType": "int64",
         "type": "integer"
        },
        {
         "name": "nombre",
         "rawType": "object",
         "type": "string"
        },
        {
         "name": "apellido",
         "rawType": "object",
         "type": "string"
        },
        {
         "name": "matemáticas",
         "rawType": "int64",
         "type": "integer"
        },
        {
         "name": "física",
         "rawType": "int64",
         "type": "integer"
        },
        {
         "name": "química",
         "rawType": "int64",
         "type": "integer"
        },
        {
         "name": "biología",
         "rawType": "int64",
         "type": "integer"
        },
        {
         "name": "literatura",
         "rawType": "int64",
         "type": "integer"
        },
        {
         "name": "historia",
         "rawType": "int64",
         "type": "integer"
        },
        {
         "name": "geografía",
         "rawType": "int64",
         "type": "integer"
        },
        {
         "name": "economía",
         "rawType": "int64",
         "type": "integer"
        },
        {
         "name": "inglés",
         "rawType": "int64",
         "type": "integer"
        },
        {
         "name": "artes",
         "rawType": "int64",
         "type": "integer"
        },
        {
         "name": "edu_fisica",
         "rawType": "int64",
         "type": "integer"
        },
        {
         "name": "computación",
         "rawType": "int64",
         "type": "integer"
        }
       ],
       "ref": "13672746-80ad-457e-96e6-7045110e1b91",
       "rows": [
        [
         "0",
         "Vinicio",
         "Girón",
         "10",
         "6",
         "1",
         "6",
         "7",
         "2",
         "7",
         "10",
         "4",
         "6",
         "2",
         "6"
        ],
        [
         "1",
         "Custodia",
         "Agudo",
         "2",
         "5",
         "5",
         "6",
         "5",
         "5",
         "1",
         "1",
         "3",
         "1",
         "4",
         "7"
        ],
        [
         "2",
         "Samuel",
         "Alberdi",
         "2",
         "10",
         "1",
         "1",
         "9",
         "10",
         "8",
         "3",
         "2",
         "3",
         "7",
         "3"
        ],
        [
         "3",
         "Anacleto",
         "Maldonado",
         "1",
         "8",
         "3",
         "9",
         "7",
         "4",
         "4",
         "8",
         "6",
         "5",
         "10",
         "8"
        ],
        [
         "4",
         "Ceferino",
         "Cabezas",
         "10",
         "10",
         "6",
         "5",
         "1",
         "10",
         "10",
         "9",
         "9",
         "4",
         "8",
         "4"
        ]
       ],
       "shape": {
        "columns": 14,
        "rows": 5
       }
      },
      "text/html": [
       "<div>\n",
       "<style scoped>\n",
       "    .dataframe tbody tr th:only-of-type {\n",
       "        vertical-align: middle;\n",
       "    }\n",
       "\n",
       "    .dataframe tbody tr th {\n",
       "        vertical-align: top;\n",
       "    }\n",
       "\n",
       "    .dataframe thead th {\n",
       "        text-align: right;\n",
       "    }\n",
       "</style>\n",
       "<table border=\"1\" class=\"dataframe\">\n",
       "  <thead>\n",
       "    <tr style=\"text-align: right;\">\n",
       "      <th></th>\n",
       "      <th>nombre</th>\n",
       "      <th>apellido</th>\n",
       "      <th>matemáticas</th>\n",
       "      <th>física</th>\n",
       "      <th>química</th>\n",
       "      <th>biología</th>\n",
       "      <th>literatura</th>\n",
       "      <th>historia</th>\n",
       "      <th>geografía</th>\n",
       "      <th>economía</th>\n",
       "      <th>inglés</th>\n",
       "      <th>artes</th>\n",
       "      <th>edu_fisica</th>\n",
       "      <th>computación</th>\n",
       "    </tr>\n",
       "  </thead>\n",
       "  <tbody>\n",
       "    <tr>\n",
       "      <th>0</th>\n",
       "      <td>Vinicio</td>\n",
       "      <td>Girón</td>\n",
       "      <td>10</td>\n",
       "      <td>6</td>\n",
       "      <td>1</td>\n",
       "      <td>6</td>\n",
       "      <td>7</td>\n",
       "      <td>2</td>\n",
       "      <td>7</td>\n",
       "      <td>10</td>\n",
       "      <td>4</td>\n",
       "      <td>6</td>\n",
       "      <td>2</td>\n",
       "      <td>6</td>\n",
       "    </tr>\n",
       "    <tr>\n",
       "      <th>1</th>\n",
       "      <td>Custodia</td>\n",
       "      <td>Agudo</td>\n",
       "      <td>2</td>\n",
       "      <td>5</td>\n",
       "      <td>5</td>\n",
       "      <td>6</td>\n",
       "      <td>5</td>\n",
       "      <td>5</td>\n",
       "      <td>1</td>\n",
       "      <td>1</td>\n",
       "      <td>3</td>\n",
       "      <td>1</td>\n",
       "      <td>4</td>\n",
       "      <td>7</td>\n",
       "    </tr>\n",
       "    <tr>\n",
       "      <th>2</th>\n",
       "      <td>Samuel</td>\n",
       "      <td>Alberdi</td>\n",
       "      <td>2</td>\n",
       "      <td>10</td>\n",
       "      <td>1</td>\n",
       "      <td>1</td>\n",
       "      <td>9</td>\n",
       "      <td>10</td>\n",
       "      <td>8</td>\n",
       "      <td>3</td>\n",
       "      <td>2</td>\n",
       "      <td>3</td>\n",
       "      <td>7</td>\n",
       "      <td>3</td>\n",
       "    </tr>\n",
       "    <tr>\n",
       "      <th>3</th>\n",
       "      <td>Anacleto</td>\n",
       "      <td>Maldonado</td>\n",
       "      <td>1</td>\n",
       "      <td>8</td>\n",
       "      <td>3</td>\n",
       "      <td>9</td>\n",
       "      <td>7</td>\n",
       "      <td>4</td>\n",
       "      <td>4</td>\n",
       "      <td>8</td>\n",
       "      <td>6</td>\n",
       "      <td>5</td>\n",
       "      <td>10</td>\n",
       "      <td>8</td>\n",
       "    </tr>\n",
       "    <tr>\n",
       "      <th>4</th>\n",
       "      <td>Ceferino</td>\n",
       "      <td>Cabezas</td>\n",
       "      <td>10</td>\n",
       "      <td>10</td>\n",
       "      <td>6</td>\n",
       "      <td>5</td>\n",
       "      <td>1</td>\n",
       "      <td>10</td>\n",
       "      <td>10</td>\n",
       "      <td>9</td>\n",
       "      <td>9</td>\n",
       "      <td>4</td>\n",
       "      <td>8</td>\n",
       "      <td>4</td>\n",
       "    </tr>\n",
       "  </tbody>\n",
       "</table>\n",
       "</div>"
      ],
      "text/plain": [
       "     nombre   apellido  matemáticas  física  química  biología  literatura  \\\n",
       "0   Vinicio      Girón           10       6        1         6           7   \n",
       "1  Custodia      Agudo            2       5        5         6           5   \n",
       "2    Samuel    Alberdi            2      10        1         1           9   \n",
       "3  Anacleto  Maldonado            1       8        3         9           7   \n",
       "4  Ceferino    Cabezas           10      10        6         5           1   \n",
       "\n",
       "   historia  geografía  economía  inglés  artes  edu_fisica  computación  \n",
       "0         2          7        10       4      6           2            6  \n",
       "1         5          1         1       3      1           4            7  \n",
       "2        10          8         3       2      3           7            3  \n",
       "3         4          4         8       6      5          10            8  \n",
       "4        10         10         9       9      4           8            4  "
      ]
     },
     "execution_count": 3,
     "metadata": {},
     "output_type": "execute_result"
    }
   ],
   "source": [
    "import pandas as pd\n",
    "\n",
    "pd.read_csv('estudiantes.csv').head()"
   ]
  },
  {
   "cell_type": "markdown",
   "id": "2bc189f4",
   "metadata": {},
   "source": [
    "Aún así, vamos a procesar los datos de otra manera. Partiendo de las definiciones de las clases del módulo *entidades.py*, tendremos un nombre y apellido para cada Estudiante, junto a una lista de cada Materia, que contendrá su nombre y la nota obtenida. A su vez, se definirá una función para calcular el promedio de todas las materias obtenido por cada estudiante."
   ]
  },
  {
   "cell_type": "code",
   "execution_count": 4,
   "id": "b8149c90",
   "metadata": {},
   "outputs": [
    {
     "name": "stdout",
     "output_type": "stream",
     "text": [
      "Vinicio Girón - Promedio: 5.58\n",
      "Custodia Agudo - Promedio: 3.75\n",
      "Samuel Alberdi - Promedio: 4.92\n",
      "Anacleto Maldonado - Promedio: 6.08\n",
      "Ceferino Cabezas - Promedio: 7.17\n"
     ]
    }
   ],
   "source": [
    "from datos.procesamiento import procesar_csv\n",
    "\n",
    "estudiantes = procesar_csv('estudiantes.csv')\n",
    "\n",
    "# Mostrar los primeros 5 estudiantes para verificar el resultado\n",
    "for estudiante in estudiantes[:5]:\n",
    "\tprint(estudiante)"
   ]
  },
  {
   "cell_type": "markdown",
   "id": "95a199e4",
   "metadata": {},
   "source": [
    "## Análisis Académico"
   ]
  },
  {
   "cell_type": "code",
   "execution_count": 5,
   "id": "42176ad5",
   "metadata": {},
   "outputs": [],
   "source": [
    "from analisis.estadisticas import calcular_estadisticas_grupo\n",
    "\n",
    "estadisticas = calcular_estadisticas_grupo(estudiantes)\n"
   ]
  },
  {
   "cell_type": "markdown",
   "id": "5a5e3fea",
   "metadata": {},
   "source": [
    "## Presentación de Resultados\n",
    "\n",
    "**Rendimiento académico de cada estudiante**"
   ]
  },
  {
   "cell_type": "code",
   "execution_count": null,
   "id": "9a12d729",
   "metadata": {},
   "outputs": [],
   "source": [
    "for i, estudiante in enumerate(estudiantes, 1):\n",
    "    print(f\"\\nEstudiante #{i}\")\n",
    "    print(estudiante)\n",
    "    print(\"Detalle de materias:\")\n",
    "    for materia in estudiante.materias:\n",
    "        estado = \"Aprobada\" if materia.aprobada() else \"Reprobada\"\n",
    "        print(f\"- {materia.nombre}: {materia.nota} ({estado})\")"
   ]
  },
  {
   "cell_type": "markdown",
   "id": "60974df3",
   "metadata": {},
   "source": [
    "**Estadísticas generales del grupo**"
   ]
  },
  {
   "cell_type": "code",
   "execution_count": 6,
   "id": "488b4998",
   "metadata": {},
   "outputs": [
    {
     "name": "stdout",
     "output_type": "stream",
     "text": [
      "\n",
      "Promedio por asignatura:\n",
      "- Matemáticas: 5.62\n",
      "- Física: 5.44\n",
      "- Química: 5.28\n",
      "- Biología: 5.32\n",
      "- Literatura: 5.23\n",
      "- Historia: 5.35\n",
      "- Geografía: 5.59\n",
      "- Economía: 5.45\n",
      "- Inglés: 5.67\n",
      "- Artes: 5.36\n",
      "- Edu_fisica: 5.38\n",
      "- Computación: 5.14\n",
      "\n",
      "Porcentaje de aprobación general: 48.10%\n",
      "\n",
      "Asignaturas con mayor y menor rendimiento:\n",
      "- Mayor rendimiento: Inglés (5.67)\n",
      "- Menor rendimiento: Computación (5.14)\n"
     ]
    }
   ],
   "source": [
    "print(\"\\nPromedio por asignatura:\")\n",
    "for materia, promedio in estadisticas['promedios'].items():\n",
    "    print(f\"- {materia.capitalize()}: {promedio:.2f}\")\n",
    "\n",
    "print(f\"\\nPorcentaje de aprobación general: {estadisticas['porcentaje_aprobacion']:.2f}%\")\n",
    "\n",
    "print(\"\\nAsignaturas con mayor y menor rendimiento:\")\n",
    "print(f\"- Mayor rendimiento: {estadisticas['mejor_rendimiento'][0].capitalize()} ({estadisticas['mejor_rendimiento'][1]:.2f})\")\n",
    "print(f\"- Menor rendimiento: {estadisticas['peor_rendimiento'][0].capitalize()} ({estadisticas['peor_rendimiento'][1]:.2f})\")"
   ]
  },
  {
   "cell_type": "markdown",
   "id": "1c303228",
   "metadata": {},
   "source": [
    "**Visualización gráfica**"
   ]
  },
  {
   "cell_type": "code",
   "execution_count": null,
   "id": "888d5718",
   "metadata": {},
   "outputs": [],
   "source": [
    "import matplotlib.pyplot as plt\n",
    "from scipy.stats import norm\n",
    "import numpy as np\n",
    "\n",
    "plt.style.use('seaborn-v0_8')\n",
    "nombres_materias = [materia.nombre for materia in estudiantes[0].materias]\n",
    "\n",
    "# Generar un gráfico por materia\n",
    "for i, materia_nombre in enumerate(nombres_materias):\n",
    "    notas = [e.materias[i].nota for e in estudiantes]\n",
    "    promedio, std_dev = np.mean(notas), np.std(notas)\n",
    "    \n",
    "    plt.figure(figsize=(10, 6))\n",
    "    # Crear distribución normal teórica\n",
    "    x = np.linspace(0, 10, 1000)\n",
    "    y = norm.pdf(x, promedio, std_dev)\n",
    "    \n",
    "    # Graficar\n",
    "    plt.plot(x, y, 'b-', linewidth=2, label='Distribución teórica')\n",
    "    plt.fill_between(x, y, color='blue', alpha=0.1)\n",
    "    \n",
    "    # Graficar histograma de datos reales\n",
    "    plt.hist(notas, bins=10, density=True, alpha=0.5, color='green', label='Datos reales')\n",
    "    \n",
    "    # Línea vertical para el promedio\n",
    "    plt.axvline(promedio, color='red', linestyle='--', linewidth=2, label=f'Promedio: {promedio:.2f}')\n",
    "    \n",
    "    # Configuración del gráfico\n",
    "    plt.title(f'Distribución de notas en {materia_nombre.capitalize()}\\n'\n",
    "             f'Promedio: {promedio:.2f} - Desviación: {std_dev:.2f}')\n",
    "    plt.xlabel('Notas')\n",
    "    plt.ylabel('Densidad')\n",
    "    plt.legend()\n",
    "    plt.grid(True, alpha=0.3)\n",
    "    plt.xlim(0, 10)\n",
    "\n",
    "    # Mostrar gráfico\n",
    "    plt.tight_layout()\n",
    "    plt.show()"
   ]
  },
  {
   "cell_type": "code",
   "execution_count": 8,
   "id": "7d0fc6c3",
   "metadata": {},
   "outputs": [
    {
     "data": {
      "image/png": "[encoded data removed]",
      "text/plain": [
       "<Figure size 1000x800 with 12 Axes>"
      ]
     },
     "metadata": {},
     "output_type": "display_data"
    }
   ],
   "source": [
    "import matplotlib.pyplot as plt\n",
    "from scipy.stats import norm\n",
    "import numpy as np\n",
    "\n",
    "# Seteamos el número de histogramas, filas y columnas a mostrar\n",
    "num_hist = 12\n",
    "\n",
    "num_filas = 3\n",
    "num_cols = 4\n",
    "\n",
    "# Creamos la figura y los subplots\n",
    "fig, axes = plt.subplots(num_filas, num_cols, figsize=(10, 8))\n",
    "\n",
    "# Convertimos los ejes a un arreglo unidimensional para facilitar la iteración\n",
    "axes_flat = axes.flatten()\n",
    "\n",
    "# Generamos una lista de 12 colores distintos desde colormap\n",
    "colors = plt.cm.tab20.colors[:num_hist]\n",
    "\n",
    "for i, (materia_nombre, ax) in enumerate(zip(nombres_materias, axes_flat)):\n",
    "    notas = [e.materias[i].nota for e in estudiantes]\n",
    "    promedio, std_dev = np.mean(notas), np.std(notas)\n",
    "\n",
    "    ax.hist(notas, bins=10, density=True, alpha=0.5, color=colors[i], edgecolor='black', label='Datos reales')\n",
    "\n",
    "     # Distribución normal teórica (solo línea negra fina)\n",
    "    x = np.linspace(0, 10, 1000)\n",
    "    y = norm.pdf(x, promedio, std_dev)\n",
    "    ax.plot(x, y, color='gray', linewidth=1, label='Dist. normal')\n",
    "\n",
    "    # Graficamos el histograma\n",
    "    \n",
    "    ax.set_title(f'{materia_nombre.capitalize()}\\n μ = {promedio:.2f}, σ = {std_dev:.2f}', fontsize=8)\n",
    "    ax.set_xlabel('Nota', fontsize=7)\n",
    "    ax.set_ylabel('Densidad', fontsize=7)\n",
    "    ax.tick_params(axis='both', labelsize=6)\n",
    "    ax.set_xlim(1, 10)\n",
    "    ax.grid(True, alpha=0.3)\n",
    "    ax.set_ylim(0, 0.175)\n",
    "\n",
    "\n",
    "    \n",
    "# Eliminar subplots vacíos si sobran\n",
    "for j in range(num_hist, len(axes_flat)):\n",
    "    fig.delaxes(axes_flat[j])\n",
    "\n",
    "plt.tight_layout()\n",
    "plt.show()\n",
    "\n"
   ]
  }
 ],
 "metadata": {
  "kernelspec": {
   "display_name": "base",
   "language": "python",
   "name": "python3"
  },
  "language_info": {
   "codemirror_mode": {
    "name": "ipython",
    "version": 3
   },
   "file_extension": ".py",
   "mimetype": "text/x-python",
   "name": "python",
   "nbconvert_exporter": "python",
   "pygments_lexer": "ipython3",
   "version": "3.12.6"
  }
 },
 "nbformat": 4,
 "nbformat_minor": 5
}
